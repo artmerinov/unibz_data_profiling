{
 "cells": [
  {
   "cell_type": "markdown",
   "metadata": {},
   "source": [
    "# Position List Indices"
   ]
  },
  {
   "cell_type": "code",
   "execution_count": 1,
   "metadata": {},
   "outputs": [],
   "source": [
    "from collections import defaultdict"
   ]
  },
  {
   "cell_type": "code",
   "execution_count": 2,
   "metadata": {},
   "outputs": [],
   "source": [
    "col1 = ['james', 'john', 'robert', 'john', 'john', 'james']\n",
    "col2 = ['smith', 'smith', 'johnson', 'smith', 'johnson', 'williams']"
   ]
  },
  {
   "cell_type": "code",
   "execution_count": 3,
   "metadata": {},
   "outputs": [],
   "source": [
    "def generate_pli(column):\n",
    "    \"\"\"\n",
    "    PLI from single attributes.\n",
    "    \"\"\"\n",
    "    pli = defaultdict(list)\n",
    "\n",
    "    # create group of indexes for each common value\n",
    "    for index, value in enumerate(column):\n",
    "        pli[value].append(index)\n",
    "\n",
    "    pli = {i+1: v for i, (k, v) in enumerate(pli.items())}\n",
    "    \n",
    "    # remove singletons\n",
    "    pli = {k: v for k, v in pli.items() if len(v) > 1}\n",
    "\n",
    "    return pli"
   ]
  },
  {
   "cell_type": "markdown",
   "metadata": {},
   "source": [
    "<div>\n",
    "<img src=\"img/pli.png\" width=\"500\"/>\n",
    "</div>"
   ]
  },
  {
   "cell_type": "code",
   "execution_count": 4,
   "metadata": {},
   "outputs": [
    {
     "name": "stdout",
     "output_type": "stream",
     "text": [
      "{1: [0, 5], 2: [1, 3, 4]}\n",
      "{1: [0, 1, 3], 2: [2, 4]}\n"
     ]
    }
   ],
   "source": [
    "pli1 = generate_pli(col1)\n",
    "pli2 = generate_pli(col2)\n",
    "\n",
    "print(pli1)\n",
    "print(pli2)"
   ]
  },
  {
   "cell_type": "code",
   "execution_count": 5,
   "metadata": {},
   "outputs": [],
   "source": [
    "def pli_intersection(pli1, pli2):\n",
    "    intersection = {}\n",
    "\n",
    "    for i, group1 in pli1.items():\n",
    "        for j, group2 in pli2.items():\n",
    "            common_indices = set(group1) & set(group2)\n",
    "            \n",
    "            # remove singletons\n",
    "            if len(common_indices) > 1:  \n",
    "                intersection[(i, j)] = sorted(list(common_indices))\n",
    "\n",
    "    return intersection"
   ]
  },
  {
   "cell_type": "code",
   "execution_count": 6,
   "metadata": {},
   "outputs": [
    {
     "data": {
      "text/plain": [
       "{(2, 1): [1, 3]}"
      ]
     },
     "execution_count": 6,
     "metadata": {},
     "output_type": "execute_result"
    }
   ],
   "source": [
    "pli_intersection(pli1, pli2)"
   ]
  },
  {
   "cell_type": "markdown",
   "metadata": {},
   "source": [
    "# Use probing table\n",
    "\n",
    "So far `pli_intersection` function is quadratic. To optimise calculations, we can introduce Probing table, and make time complexity linear."
   ]
  },
  {
   "cell_type": "code",
   "execution_count": 7,
   "metadata": {},
   "outputs": [
    {
     "data": {
      "text/plain": [
       "{0: 1, 5: 1, 1: 2, 3: 2, 4: 2}"
      ]
     },
     "execution_count": 7,
     "metadata": {},
     "output_type": "execute_result"
    }
   ],
   "source": [
    "def create_probing_table(pli):\n",
    "    \"\"\"\n",
    "    Creates mapping bewtween index and group number.\n",
    "    \"\"\"\n",
    "    probing_table = {}\n",
    "\n",
    "    for gr_index, group in pli.items():\n",
    "        for index in group:\n",
    "            probing_table[index] = gr_index\n",
    "\n",
    "    return probing_table\n",
    "\n",
    "create_probing_table(pli1)"
   ]
  },
  {
   "cell_type": "markdown",
   "metadata": {},
   "source": [
    "<div>\n",
    "<img src=\"img/pli_intersection.png\" width=\"700\"/>\n",
    "</div>"
   ]
  },
  {
   "cell_type": "code",
   "execution_count": 8,
   "metadata": {},
   "outputs": [],
   "source": [
    "def pli_intersection_optimized(pli1, pli2):\n",
    "    intersection = defaultdict(list)\n",
    "\n",
    "    # create a probing table for pli1\n",
    "    pt1 = create_probing_table(pli1)\n",
    "    \n",
    "    # check for common indices in pli2 using the probing table of pli1\n",
    "    for gr2_index, gr2_values in pli2.items():\n",
    "        for v in gr2_values:\n",
    "            if v in pt1:\n",
    "                gr1_index = pt1[v]\n",
    "                intersection[(gr1_index, gr2_index)].append(v)\n",
    "\n",
    "    # remove singletons\n",
    "    intersection = {k: v for k, v in intersection.items() if len(v) > 1}\n",
    "                \n",
    "    return intersection"
   ]
  },
  {
   "cell_type": "code",
   "execution_count": 9,
   "metadata": {},
   "outputs": [
    {
     "name": "stdout",
     "output_type": "stream",
     "text": [
      "{1: [0, 5], 2: [1, 3, 4]}\n",
      "{1: [0, 1, 3], 2: [2, 4]}\n"
     ]
    }
   ],
   "source": [
    "print(pli1)\n",
    "print(pli2)"
   ]
  },
  {
   "cell_type": "code",
   "execution_count": 10,
   "metadata": {},
   "outputs": [
    {
     "data": {
      "text/plain": [
       "{(2, 1): [1, 3]}"
      ]
     },
     "execution_count": 10,
     "metadata": {},
     "output_type": "execute_result"
    }
   ],
   "source": [
    "pli_intersection_optimized(pli1, pli2)"
   ]
  },
  {
   "cell_type": "code",
   "execution_count": null,
   "metadata": {},
   "outputs": [],
   "source": []
  },
  {
   "cell_type": "code",
   "execution_count": null,
   "metadata": {},
   "outputs": [],
   "source": []
  },
  {
   "cell_type": "code",
   "execution_count": null,
   "metadata": {},
   "outputs": [],
   "source": []
  }
 ],
 "metadata": {
  "kernelspec": {
   "display_name": ".venv",
   "language": "python",
   "name": "python3"
  },
  "language_info": {
   "codemirror_mode": {
    "name": "ipython",
    "version": 3
   },
   "file_extension": ".py",
   "mimetype": "text/x-python",
   "name": "python",
   "nbconvert_exporter": "python",
   "pygments_lexer": "ipython3",
   "version": "3.10.10"
  }
 },
 "nbformat": 4,
 "nbformat_minor": 2
}
