{
 "cells": [
  {
   "cell_type": "code",
   "execution_count": 10,
   "metadata": {},
   "outputs": [
    {
     "name": "stdout",
     "output_type": "stream",
     "text": [
      "The autoreload extension is already loaded. To reload it, use:\n",
      "  %reload_ext autoreload\n"
     ]
    }
   ],
   "source": [
    "from itertools import combinations\n",
    "from encoding import (\n",
    "    create_huffman_prefix_mapping,\n",
    "    encode_transaction,\n",
    "    decode_transaction,\n",
    "    encode_all_transactions\n",
    ")\n",
    "from utils import build_binary_tree, print_tree\n",
    "\n",
    "%load_ext autoreload\n",
    "%autoreload 2"
   ]
  },
  {
   "cell_type": "code",
   "execution_count": 11,
   "metadata": {},
   "outputs": [
    {
     "data": {
      "text/plain": [
       "[{'birra', 'sacchetto'},\n",
       " {'birra', 'sacchetto'},\n",
       " {'birra', 'pizza'},\n",
       " {'formaggio', 'sacchetto', 'vino'},\n",
       " {'birra', 'formaggio', 'patatine', 'sacchetto'},\n",
       " {'birra', 'formaggio', 'patatine'},\n",
       " {'formaggio', 'pasta', 'pomodoro', 'sacchetto'},\n",
       " {'cioccolato', 'cipolla', 'funghi', 'panna', 'pasta', 'sale'}]"
      ]
     },
     "execution_count": 11,
     "metadata": {},
     "output_type": "execute_result"
    }
   ],
   "source": [
    "transactions = [\n",
    "    {'birra', 'sacchetto'},\n",
    "    {'birra', 'sacchetto'},\n",
    "    {'birra', 'pizza'},\n",
    "    {'formaggio', 'sacchetto', 'vino'},\n",
    "    {'birra', 'formaggio', 'patatine', 'sacchetto'},\n",
    "    {'birra', 'formaggio', 'patatine'},\n",
    "    {'formaggio', 'pasta', 'pomodoro', 'sacchetto'},\n",
    "    {'cioccolato', 'cipolla', 'funghi', 'panna', 'pasta', 'sale'}\n",
    "]\n",
    "\n",
    "transactions = [set(t) for t in transactions]\n",
    "transactions"
   ]
  },
  {
   "cell_type": "markdown",
   "metadata": {},
   "source": [
    "# Create prefix codes (Huffman tree)"
   ]
  },
  {
   "cell_type": "code",
   "execution_count": 12,
   "metadata": {},
   "outputs": [
    {
     "data": {
      "text/plain": [
       "{'birra': '00',\n",
       " 'sacchetto': '01',\n",
       " 'cioccolato': '10000',\n",
       " 'cipolla': '10001',\n",
       " 'funghi': '10010',\n",
       " 'panna': '10011',\n",
       " 'formaggio': '101',\n",
       " 'pasta': '1100',\n",
       " 'patatine': '1101',\n",
       " 'pizza': '11100',\n",
       " 'pomodoro': '11101',\n",
       " 'sale': '11110',\n",
       " 'vino': '11111'}"
      ]
     },
     "execution_count": 12,
     "metadata": {},
     "output_type": "execute_result"
    }
   ],
   "source": [
    "item2code_mapping = create_huffman_prefix_mapping(transactions)\n",
    "item2code_mapping"
   ]
  },
  {
   "cell_type": "code",
   "execution_count": 13,
   "metadata": {},
   "outputs": [
    {
     "name": "stdout",
     "output_type": "stream",
     "text": [
      "Root: root (None)\n",
      "    L --- None (None)\n",
      "        L --- birra (00)\n",
      "        R --- sacchetto (01)\n",
      "    R --- None (None)\n",
      "        L --- None (None)\n",
      "            L --- None (None)\n",
      "                L --- None (None)\n",
      "                    L --- cioccolato (10000)\n",
      "                    R --- cipolla (10001)\n",
      "                R --- None (None)\n",
      "                    L --- funghi (10010)\n",
      "                    R --- panna (10011)\n",
      "            R --- formaggio (101)\n",
      "        R --- None (None)\n",
      "            L --- None (None)\n",
      "                L --- pasta (1100)\n",
      "                R --- patatine (1101)\n",
      "            R --- None (None)\n",
      "                L --- None (None)\n",
      "                    L --- pizza (11100)\n",
      "                    R --- pomodoro (11101)\n",
      "                R --- None (None)\n",
      "                    L --- sale (11110)\n",
      "                    R --- vino (11111)\n"
     ]
    }
   ],
   "source": [
    "root_node = build_binary_tree(item2code_mapping)\n",
    "print_tree(root_node)"
   ]
  },
  {
   "cell_type": "code",
   "execution_count": 14,
   "metadata": {},
   "outputs": [
    {
     "data": {
      "text/plain": [
       "'111001111100110111110101'"
      ]
     },
     "execution_count": 14,
     "metadata": {},
     "output_type": "execute_result"
    }
   ],
   "source": [
    "encoded = encode_transaction(\n",
    "    transaction=['pizza', 'vino', 'birra', 'patatine', 'sale', 'formaggio'], \n",
    "    item2code_mapping=item2code_mapping\n",
    ")\n",
    "encoded"
   ]
  },
  {
   "cell_type": "code",
   "execution_count": 15,
   "metadata": {},
   "outputs": [
    {
     "data": {
      "text/plain": [
       "['pizza', 'vino', 'birra', 'patatine', 'sale', 'formaggio']"
      ]
     },
     "execution_count": 15,
     "metadata": {},
     "output_type": "execute_result"
    }
   ],
   "source": [
    "decoded = decode_transaction(\n",
    "    transaction_code=encoded, \n",
    "    item2code_mapping=item2code_mapping\n",
    ")\n",
    "decoded"
   ]
  },
  {
   "cell_type": "code",
   "execution_count": 16,
   "metadata": {},
   "outputs": [
    {
     "data": {
      "text/plain": [
       "['0001',\n",
       " '0001',\n",
       " '1110000',\n",
       " '1111110101',\n",
       " '00110110101',\n",
       " '110110100',\n",
       " '11101110010101',\n",
       " '10000100101000111110110010011']"
      ]
     },
     "execution_count": 16,
     "metadata": {},
     "output_type": "execute_result"
    }
   ],
   "source": [
    "encode_all_transactions(transactions, item2code_mapping)"
   ]
  },
  {
   "cell_type": "code",
   "execution_count": null,
   "metadata": {},
   "outputs": [],
   "source": []
  }
 ],
 "metadata": {
  "kernelspec": {
   "display_name": ".venv",
   "language": "python",
   "name": "python3"
  },
  "language_info": {
   "codemirror_mode": {
    "name": "ipython",
    "version": 3
   },
   "file_extension": ".py",
   "mimetype": "text/x-python",
   "name": "python",
   "nbconvert_exporter": "python",
   "pygments_lexer": "ipython3",
   "version": "3.10.10"
  }
 },
 "nbformat": 4,
 "nbformat_minor": 2
}
