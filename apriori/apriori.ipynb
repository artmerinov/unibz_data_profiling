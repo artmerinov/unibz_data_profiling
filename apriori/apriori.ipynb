{
 "cells": [
  {
   "cell_type": "code",
   "execution_count": 1,
   "metadata": {},
   "outputs": [],
   "source": [
    "from apriori import (\n",
    "    generate_candidates,\n",
    "    is_frequent,\n",
    "    apriori\n",
    ")"
   ]
  },
  {
   "cell_type": "code",
   "execution_count": 2,
   "metadata": {},
   "outputs": [
    {
     "data": {
      "text/plain": [
       "[{'b'},\n",
       " {'a', 'b'},\n",
       " {'a', 'b'},\n",
       " {'a', 'b', 'c'},\n",
       " {'b', 'c', 'd'},\n",
       " {'a', 'd', 'x'}]"
      ]
     },
     "execution_count": 2,
     "metadata": {},
     "output_type": "execute_result"
    }
   ],
   "source": [
    "transactions = [\n",
    "    {'b'},\n",
    "    {'a', 'b'},\n",
    "    {'a', 'b'},\n",
    "    {'a', 'b', 'c'},\n",
    "    {'b', 'c', 'd'},\n",
    "    {'d', 'a', 'x'},\n",
    "]\n",
    "\n",
    "transactions = [set(t) for t in transactions]\n",
    "transactions"
   ]
  },
  {
   "cell_type": "code",
   "execution_count": 6,
   "metadata": {},
   "outputs": [
    {
     "data": {
      "text/plain": [
       "['bc', 'bd', 'be', 'cd', 'ce']"
      ]
     },
     "execution_count": 6,
     "metadata": {},
     "output_type": "execute_result"
    }
   ],
   "source": [
    "generate_candidates(\n",
    "    schema=['a', 'b', 'c', 'd', 'e'], \n",
    "    frequent_items_prev=['b', 'c'],\n",
    "    k=2,\n",
    ")"
   ]
  },
  {
   "cell_type": "code",
   "execution_count": 11,
   "metadata": {},
   "outputs": [
    {
     "name": "stdout",
     "output_type": "stream",
     "text": [
      "level 1: ['a', 'b', 'c', 'd']\n",
      "level 2: ['ab', 'bc']\n",
      "level 3: []\n"
     ]
    }
   ],
   "source": [
    "frequent = apriori(transactions=transactions, support_thr=2)\n",
    "\n",
    "for k in frequent:\n",
    "    print(f'level {k}: {frequent[k]}')"
   ]
  },
  {
   "cell_type": "code",
   "execution_count": null,
   "metadata": {},
   "outputs": [],
   "source": []
  },
  {
   "cell_type": "code",
   "execution_count": null,
   "metadata": {},
   "outputs": [],
   "source": []
  }
 ],
 "metadata": {
  "kernelspec": {
   "display_name": ".venv",
   "language": "python",
   "name": "python3"
  },
  "language_info": {
   "codemirror_mode": {
    "name": "ipython",
    "version": 3
   },
   "file_extension": ".py",
   "mimetype": "text/x-python",
   "name": "python",
   "nbconvert_exporter": "python",
   "pygments_lexer": "ipython3",
   "version": "3.10.10"
  }
 },
 "nbformat": 4,
 "nbformat_minor": 2
}
