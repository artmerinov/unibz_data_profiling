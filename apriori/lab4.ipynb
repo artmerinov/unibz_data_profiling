{
 "cells": [
  {
   "cell_type": "code",
   "execution_count": 14,
   "metadata": {},
   "outputs": [
    {
     "name": "stdout",
     "output_type": "stream",
     "text": [
      "The autoreload extension is already loaded. To reload it, use:\n",
      "  %reload_ext autoreload\n"
     ]
    }
   ],
   "source": [
    "from itertools import combinations\n",
    "from encoding import (\n",
    "    create_huffman_prefix_mapping,\n",
    "    encode_transaction,\n",
    "    decode_transaction\n",
    ")\n",
    "\n",
    "%load_ext autoreload\n",
    "%autoreload 2"
   ]
  },
  {
   "cell_type": "code",
   "execution_count": 19,
   "metadata": {},
   "outputs": [
    {
     "data": {
      "text/plain": [
       "[{'birra', 'sacchetto'},\n",
       " {'birra', 'sacchetto'},\n",
       " {'birra', 'pizza'},\n",
       " {'formaggio', 'sacchetto', 'vino'},\n",
       " {'birra', 'formaggio', 'patatine', 'sacchetto'},\n",
       " {'birra', 'formaggio', 'patatine'},\n",
       " {'formaggio', 'pasta', 'pomodoro', 'sacchetto'},\n",
       " {'cioccolato', 'cipolla', 'funghi', 'panna', 'pasta', 'sale'}]"
      ]
     },
     "execution_count": 19,
     "metadata": {},
     "output_type": "execute_result"
    }
   ],
   "source": [
    "transactions = [\n",
    "    {'birra', 'sacchetto'},\n",
    "    {'birra', 'sacchetto'},\n",
    "    {'birra', 'pizza'},\n",
    "    {'formaggio', 'sacchetto', 'vino'},\n",
    "    {'birra', 'formaggio', 'patatine', 'sacchetto'},\n",
    "    {'birra', 'formaggio', 'patatine'},\n",
    "    {'formaggio', 'pasta', 'pomodoro', 'sacchetto'},\n",
    "    {'cioccolato', 'cipolla', 'funghi', 'panna', 'pasta', 'sale'}\n",
    "]\n",
    "\n",
    "transactions = [set(t) for t in transactions]\n",
    "transactions"
   ]
  },
  {
   "cell_type": "markdown",
   "metadata": {},
   "source": [
    "# Create prefix codes (Huffman tree)"
   ]
  },
  {
   "cell_type": "code",
   "execution_count": 22,
   "metadata": {},
   "outputs": [
    {
     "data": {
      "text/plain": [
       "{'birra': '00',\n",
       " 'sacchetto': '01',\n",
       " 'cioccolato': '10000',\n",
       " 'cipolla': '10001',\n",
       " 'funghi': '10010',\n",
       " 'panna': '10011',\n",
       " 'formaggio': '101',\n",
       " 'pasta': '1100',\n",
       " 'patatine': '1101',\n",
       " 'pizza': '11100',\n",
       " 'pomodoro': '11101',\n",
       " 'sale': '11110',\n",
       " 'vino': '11111'}"
      ]
     },
     "execution_count": 22,
     "metadata": {},
     "output_type": "execute_result"
    }
   ],
   "source": [
    "item2code_mapping = create_huffman_prefix_mapping(transactions)\n",
    "item2code_mapping"
   ]
  },
  {
   "cell_type": "code",
   "execution_count": 24,
   "metadata": {},
   "outputs": [
    {
     "data": {
      "text/plain": [
       "'111001111100110111110101'"
      ]
     },
     "execution_count": 24,
     "metadata": {},
     "output_type": "execute_result"
    }
   ],
   "source": [
    "encoded = encode_transaction(\n",
    "    transaction=['pizza', 'vino', 'birra', 'patatine', 'sale', 'formaggio'], \n",
    "    item2code_mapping=item2code_mapping\n",
    ")\n",
    "encoded"
   ]
  },
  {
   "cell_type": "code",
   "execution_count": 25,
   "metadata": {},
   "outputs": [
    {
     "data": {
      "text/plain": [
       "['pizza', 'vino', 'birra', 'patatine', 'sale', 'formaggio']"
      ]
     },
     "execution_count": 25,
     "metadata": {},
     "output_type": "execute_result"
    }
   ],
   "source": [
    "decoded = decode_transaction(\n",
    "    transaction_code=encoded, \n",
    "    item2code_mapping=item2code_mapping\n",
    ")\n",
    "decoded"
   ]
  },
  {
   "cell_type": "code",
   "execution_count": 28,
   "metadata": {},
   "outputs": [
    {
     "name": "stdout",
     "output_type": "stream",
     "text": [
      "Root: root (None)\n",
      "    L----- None (None)\n",
      "        L----- birra (00)\n",
      "        R----- sacchetto (01)\n",
      "    R----- None (None)\n",
      "        L----- None (None)\n",
      "            L----- None (None)\n",
      "                L----- None (None)\n",
      "                    L----- cioccolato (10000)\n",
      "                    R----- cipolla (10001)\n",
      "                R----- None (None)\n",
      "                    L----- funghi (10010)\n",
      "                    R----- panna (10011)\n",
      "            R----- formaggio (101)\n",
      "        R----- None (None)\n",
      "            L----- None (None)\n",
      "                L----- pasta (1100)\n",
      "                R----- patatine (1101)\n",
      "            R----- None (None)\n",
      "                L----- None (None)\n",
      "                    L----- pizza (11100)\n",
      "                    R----- pomodoro (11101)\n",
      "                R----- None (None)\n",
      "                    L----- sale (11110)\n",
      "                    R----- vino (11111)\n"
     ]
    }
   ],
   "source": [
    "class TreeNode:\n",
    "    def __init__(self, value, code):\n",
    "        self.value = value\n",
    "        self.code = code\n",
    "        self.left = None\n",
    "        self.right = None\n",
    "\n",
    "def build_binary_tree(mapping):\n",
    "    root = TreeNode('root', None)\n",
    "\n",
    "    for key, value in mapping.items():\n",
    "        current = root\n",
    "\n",
    "        for direction in value:\n",
    "            if direction == '0':\n",
    "                if not current.left:\n",
    "                    current.left = TreeNode(None, None)\n",
    "                current = current.left\n",
    "            elif direction == '1':\n",
    "                if not current.right:\n",
    "                    current.right = TreeNode(None, None)\n",
    "                current = current.right\n",
    "\n",
    "        current.value = key\n",
    "        current.code = value\n",
    "\n",
    "    return root\n",
    "\n",
    "def print_tree(root, level=0, prefix=\"Root: \"):\n",
    "    if root:\n",
    "        value_str = root.value if root.value is not None else \"None\"\n",
    "        code_str = root.code if root.code is not None else \"None\"\n",
    "        print(\" \" * (level * 4) + prefix + f\"{value_str} ({code_str})\")\n",
    "        if root.left or root.right:\n",
    "            print_tree(root.left, level + 1, \"L----- \")\n",
    "            print_tree(root.right, level + 1, \"R----- \")\n",
    "\n",
    "\n",
    "\n",
    "root_node = build_binary_tree(item2code_mapping)\n",
    "print_tree(root_node)\n"
   ]
  },
  {
   "cell_type": "code",
   "execution_count": null,
   "metadata": {},
   "outputs": [],
   "source": []
  },
  {
   "cell_type": "code",
   "execution_count": null,
   "metadata": {},
   "outputs": [],
   "source": []
  },
  {
   "cell_type": "code",
   "execution_count": null,
   "metadata": {},
   "outputs": [],
   "source": []
  },
  {
   "cell_type": "code",
   "execution_count": null,
   "metadata": {},
   "outputs": [],
   "source": []
  },
  {
   "cell_type": "code",
   "execution_count": null,
   "metadata": {},
   "outputs": [],
   "source": []
  },
  {
   "cell_type": "code",
   "execution_count": null,
   "metadata": {},
   "outputs": [],
   "source": []
  },
  {
   "cell_type": "code",
   "execution_count": null,
   "metadata": {},
   "outputs": [],
   "source": []
  },
  {
   "cell_type": "code",
   "execution_count": null,
   "metadata": {},
   "outputs": [],
   "source": []
  },
  {
   "cell_type": "code",
   "execution_count": null,
   "metadata": {},
   "outputs": [],
   "source": []
  },
  {
   "cell_type": "code",
   "execution_count": null,
   "metadata": {},
   "outputs": [],
   "source": []
  },
  {
   "cell_type": "code",
   "execution_count": null,
   "metadata": {},
   "outputs": [],
   "source": []
  },
  {
   "cell_type": "code",
   "execution_count": null,
   "metadata": {},
   "outputs": [],
   "source": []
  },
  {
   "cell_type": "code",
   "execution_count": 16,
   "metadata": {},
   "outputs": [],
   "source": [
    "# to optimize"
   ]
  },
  {
   "cell_type": "code",
   "execution_count": 17,
   "metadata": {},
   "outputs": [
    {
     "name": "stdout",
     "output_type": "stream",
     "text": [
      "['birra', 'funghi', 'vino', 'patatine', 'cioccolato']\n"
     ]
    }
   ],
   "source": [
    "def decode_transaction(transaction_code, item_codes):\n",
    "    decoded_items = []\n",
    "\n",
    "    while transaction_code:\n",
    "        max_match_length = 0\n",
    "        matched_item = None\n",
    "\n",
    "        for item, code in item_codes.items():\n",
    "            if transaction_code.startswith(code) and len(code) > max_match_length:\n",
    "                max_match_length = len(code)\n",
    "                matched_item = item\n",
    "\n",
    "        if matched_item is not None:\n",
    "            decoded_items.append(matched_item)\n",
    "            transaction_code = transaction_code[max_match_length:]\n",
    "        else:\n",
    "            # If no match is found, break the loop\n",
    "            break\n",
    "\n",
    "    return decoded_items\n",
    "\n",
    "\n",
    "result = decode_transaction(encoded, prefix_codes)\n",
    "print(result)\n"
   ]
  },
  {
   "cell_type": "code",
   "execution_count": null,
   "metadata": {},
   "outputs": [],
   "source": []
  },
  {
   "cell_type": "code",
   "execution_count": null,
   "metadata": {},
   "outputs": [],
   "source": []
  },
  {
   "cell_type": "code",
   "execution_count": null,
   "metadata": {},
   "outputs": [],
   "source": []
  },
  {
   "cell_type": "code",
   "execution_count": null,
   "metadata": {},
   "outputs": [],
   "source": []
  },
  {
   "cell_type": "code",
   "execution_count": 15,
   "metadata": {},
   "outputs": [
    {
     "data": {
      "text/plain": [
       "['1101011',\n",
       " '1101011',\n",
       " '1101100',\n",
       " '1111011011',\n",
       " '11010110001011',\n",
       " '1101011000',\n",
       " '1011101010101',\n",
       " '011001101011100']"
      ]
     },
     "execution_count": 15,
     "metadata": {},
     "output_type": "execute_result"
    }
   ],
   "source": [
    "def encode_all_transaction(transactions, item_codes_dict):\n",
    "\n",
    "    encoded_transactions = []\n",
    "    for transaction in transactions:\n",
    "        encoded_transaction = encode_transaction(transaction, item_codes_dict)\n",
    "        encoded_transactions.append(encoded_transaction)\n",
    "\n",
    "    return encoded_transactions\n",
    "\n",
    "encode_all_transaction(transactions, item_codes_dict)"
   ]
  },
  {
   "cell_type": "code",
   "execution_count": null,
   "metadata": {},
   "outputs": [],
   "source": [
    "# TODO"
   ]
  },
  {
   "cell_type": "code",
   "execution_count": null,
   "metadata": {},
   "outputs": [],
   "source": []
  },
  {
   "cell_type": "code",
   "execution_count": 25,
   "metadata": {},
   "outputs": [],
   "source": [
    "# NOT OPTIMAL"
   ]
  },
  {
   "cell_type": "code",
   "execution_count": 30,
   "metadata": {},
   "outputs": [
    {
     "data": {
      "text/plain": [
       "[{'panna'},\n",
       " {'funghi'},\n",
       " {'pomodoro'},\n",
       " {'sale'},\n",
       " {'cioccolato'},\n",
       " {'formaggio'},\n",
       " {'birra'},\n",
       " {'vino'},\n",
       " {'patatine'},\n",
       " {'cipolla'},\n",
       " {'pasta'},\n",
       " {'sacchetto'},\n",
       " {'pizza'}]"
      ]
     },
     "execution_count": 30,
     "metadata": {},
     "output_type": "execute_result"
    }
   ],
   "source": [
    "def candidates(busket, k):\n",
    "    return [set(e) for e in combinations(busket, k)]\n",
    "\n",
    "candidates(basket, k=1)"
   ]
  },
  {
   "cell_type": "code",
   "execution_count": 87,
   "metadata": {},
   "outputs": [
    {
     "data": {
      "text/plain": [
       "[{'formaggio'}, {'birra'}, {'sacchetto'}]"
      ]
     },
     "execution_count": 87,
     "metadata": {},
     "output_type": "execute_result"
    }
   ],
   "source": [
    "def is_frequent(candidate, transactions, support_threshold):\n",
    "    count = sum(1 for t in transactions if candidate.issubset(t))\n",
    "    return count >= support_threshold\n",
    "\n",
    "[c for c in candidates(basket, 1) if is_frequent(c, transactions, 3)]"
   ]
  },
  {
   "cell_type": "code",
   "execution_count": 85,
   "metadata": {},
   "outputs": [],
   "source": [
    "def apriori(basket, transactions, support_threshold):\n",
    "    frequent_items = {}\n",
    "    \n",
    "    # Initialize with frequent 1-itemsets\n",
    "    frequent_items[1] = [set([item]) for item in basket if sum(1 for t in transactions if item in t) >= support_threshold]\n",
    "\n",
    "    k = 1\n",
    "    while len(frequent_items[k]) > 0:\n",
    "        k += 1\n",
    "        candidates_k = candidates(basket, k)\n",
    "        frequent_items[k] = [c for c in candidates_k if is_frequent(c, transactions, support_threshold)]\n",
    "\n",
    "    return frequent_items\n"
   ]
  },
  {
   "cell_type": "code",
   "execution_count": 86,
   "metadata": {},
   "outputs": [
    {
     "name": "stdout",
     "output_type": "stream",
     "text": [
      "level 1: [{'formaggio'}, {'birra'}, {'patatine'}, {'pasta'}, {'sacchetto'}]\n",
      "level 2: [{'birra', 'formaggio'}, {'formaggio', 'patatine'}, {'formaggio', 'sacchetto'}, {'birra', 'patatine'}, {'birra', 'sacchetto'}]\n",
      "level 3: [{'birra', 'formaggio', 'patatine'}]\n",
      "level 4: []\n"
     ]
    }
   ],
   "source": [
    "frequent = apriori(basket, transactions, 2)\n",
    "\n",
    "for k in frequent:\n",
    "    print(f'level {k}: {frequent[k]}')"
   ]
  },
  {
   "cell_type": "code",
   "execution_count": null,
   "metadata": {},
   "outputs": [],
   "source": []
  },
  {
   "cell_type": "code",
   "execution_count": null,
   "metadata": {},
   "outputs": [],
   "source": []
  }
 ],
 "metadata": {
  "kernelspec": {
   "display_name": ".venv",
   "language": "python",
   "name": "python3"
  },
  "language_info": {
   "codemirror_mode": {
    "name": "ipython",
    "version": 3
   },
   "file_extension": ".py",
   "mimetype": "text/x-python",
   "name": "python",
   "nbconvert_exporter": "python",
   "pygments_lexer": "ipython3",
   "version": "3.10.10"
  }
 },
 "nbformat": 4,
 "nbformat_minor": 2
}
