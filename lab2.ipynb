{
 "cells": [
  {
   "cell_type": "code",
   "execution_count": 1,
   "metadata": {},
   "outputs": [],
   "source": [
    "import numpy as np\n",
    "import pandas as pd\n",
    "\n",
    "from correlation import (\n",
    "    pearson_correlation, spearman_correlation,\n",
    "    create_buckets, contingency_table, chi_squared_statistic, phi_k_correlation\n",
    "    )\n",
    "\n",
    "%load_ext autoreload\n",
    "%autoreload 2"
   ]
  },
  {
   "cell_type": "code",
   "execution_count": 2,
   "metadata": {},
   "outputs": [
    {
     "data": {
      "text/html": [
       "<div>\n",
       "<style scoped>\n",
       "    .dataframe tbody tr th:only-of-type {\n",
       "        vertical-align: middle;\n",
       "    }\n",
       "\n",
       "    .dataframe tbody tr th {\n",
       "        vertical-align: top;\n",
       "    }\n",
       "\n",
       "    .dataframe thead th {\n",
       "        text-align: right;\n",
       "    }\n",
       "</style>\n",
       "<table border=\"1\" class=\"dataframe\">\n",
       "  <thead>\n",
       "    <tr style=\"text-align: right;\">\n",
       "      <th></th>\n",
       "      <th>car_color</th>\n",
       "      <th>driver_age</th>\n",
       "      <th>area</th>\n",
       "      <th>mileage</th>\n",
       "      <th>car_size</th>\n",
       "    </tr>\n",
       "  </thead>\n",
       "  <tbody>\n",
       "    <tr>\n",
       "      <th>0</th>\n",
       "      <td>black</td>\n",
       "      <td>26.377219</td>\n",
       "      <td>suburbs</td>\n",
       "      <td>156806.288398</td>\n",
       "      <td>XXL</td>\n",
       "    </tr>\n",
       "    <tr>\n",
       "      <th>1</th>\n",
       "      <td>black</td>\n",
       "      <td>58.976840</td>\n",
       "      <td>suburbs</td>\n",
       "      <td>74400.323559</td>\n",
       "      <td>XL</td>\n",
       "    </tr>\n",
       "    <tr>\n",
       "      <th>2</th>\n",
       "      <td>multicolor</td>\n",
       "      <td>55.744988</td>\n",
       "      <td>downtown</td>\n",
       "      <td>267856.748015</td>\n",
       "      <td>XXL</td>\n",
       "    </tr>\n",
       "    <tr>\n",
       "      <th>3</th>\n",
       "      <td>metalic</td>\n",
       "      <td>57.629139</td>\n",
       "      <td>downtown</td>\n",
       "      <td>259028.249060</td>\n",
       "      <td>XXL</td>\n",
       "    </tr>\n",
       "    <tr>\n",
       "      <th>4</th>\n",
       "      <td>green</td>\n",
       "      <td>21.490637</td>\n",
       "      <td>downtown</td>\n",
       "      <td>110712.216080</td>\n",
       "      <td>XL</td>\n",
       "    </tr>\n",
       "    <tr>\n",
       "      <th>5</th>\n",
       "      <td>gray</td>\n",
       "      <td>50.052691</td>\n",
       "      <td>downtown</td>\n",
       "      <td>166848.529135</td>\n",
       "      <td>XXL</td>\n",
       "    </tr>\n",
       "    <tr>\n",
       "      <th>6</th>\n",
       "      <td>black</td>\n",
       "      <td>27.849175</td>\n",
       "      <td>suburbs</td>\n",
       "      <td>27533.843483</td>\n",
       "      <td>XL</td>\n",
       "    </tr>\n",
       "    <tr>\n",
       "      <th>7</th>\n",
       "      <td>blue</td>\n",
       "      <td>42.927957</td>\n",
       "      <td>hills</td>\n",
       "      <td>189280.320650</td>\n",
       "      <td>XL</td>\n",
       "    </tr>\n",
       "    <tr>\n",
       "      <th>8</th>\n",
       "      <td>metalic</td>\n",
       "      <td>73.966067</td>\n",
       "      <td>hills</td>\n",
       "      <td>180140.764820</td>\n",
       "      <td>XXL</td>\n",
       "    </tr>\n",
       "    <tr>\n",
       "      <th>9</th>\n",
       "      <td>gray</td>\n",
       "      <td>18.988367</td>\n",
       "      <td>downtown</td>\n",
       "      <td>183291.533883</td>\n",
       "      <td>XXL</td>\n",
       "    </tr>\n",
       "  </tbody>\n",
       "</table>\n",
       "</div>"
      ],
      "text/plain": [
       "    car_color  driver_age      area        mileage car_size\n",
       "0       black   26.377219   suburbs  156806.288398      XXL\n",
       "1       black   58.976840   suburbs   74400.323559       XL\n",
       "2  multicolor   55.744988  downtown  267856.748015      XXL\n",
       "3     metalic   57.629139  downtown  259028.249060      XXL\n",
       "4       green   21.490637  downtown  110712.216080       XL\n",
       "5        gray   50.052691  downtown  166848.529135      XXL\n",
       "6       black   27.849175   suburbs   27533.843483       XL\n",
       "7        blue   42.927957     hills  189280.320650       XL\n",
       "8     metalic   73.966067     hills  180140.764820      XXL\n",
       "9        gray   18.988367  downtown  183291.533883      XXL"
      ]
     },
     "execution_count": 2,
     "metadata": {},
     "output_type": "execute_result"
    }
   ],
   "source": [
    "df = pd.read_csv('data/fake_insurance_data.csv')\n",
    "df.head(10)"
   ]
  },
  {
   "cell_type": "code",
   "execution_count": 3,
   "metadata": {},
   "outputs": [
    {
     "name": "stdout",
     "output_type": "stream",
     "text": [
      "-0.041367450139555194\n",
      "-0.041166592291647985\n"
     ]
    }
   ],
   "source": [
    "print(pearson_correlation(df['driver_age'].values, df['mileage'].values))\n",
    "print(spearman_correlation(df['driver_age'].values, df['mileage'].values))"
   ]
  },
  {
   "cell_type": "code",
   "execution_count": 4,
   "metadata": {},
   "outputs": [],
   "source": [
    "A = df['driver_age'].values \n",
    "B = df['car_size'].values # category"
   ]
  },
  {
   "cell_type": "code",
   "execution_count": 5,
   "metadata": {},
   "outputs": [
    {
     "data": {
      "text/plain": [
       "array([[ 29,  24,  20,  82,   6, 227],\n",
       "       [  0,   0,   0,   1,   0,   0],\n",
       "       [  0,   0,   0,   1,   0,   0],\n",
       "       [ 39,  23,  12,  65,   7, 233],\n",
       "       [ 35,  22,  22,  87,   6, 216],\n",
       "       [ 36,  23,   8,  79,   3, 190],\n",
       "       [ 26,  21,  10,  66,   5, 153],\n",
       "       [ 12,   9,   4,  30,   2,  87],\n",
       "       [  6,   1,   2,  16,   1,  30],\n",
       "       [  2,   2,   0,   4,   2,  11],\n",
       "       [  0,   0,   0,   1,   0,   1]])"
      ]
     },
     "execution_count": 5,
     "metadata": {},
     "output_type": "execute_result"
    }
   ],
   "source": [
    "contingency_table(A, B)"
   ]
  },
  {
   "cell_type": "code",
   "execution_count": 6,
   "metadata": {},
   "outputs": [
    {
     "data": {
      "text/plain": [
       "0.06397476837120734"
      ]
     },
     "execution_count": 6,
     "metadata": {},
     "output_type": "execute_result"
    }
   ],
   "source": [
    "phi_k_correlation(A, B)"
   ]
  },
  {
   "cell_type": "code",
   "execution_count": null,
   "metadata": {},
   "outputs": [],
   "source": []
  },
  {
   "cell_type": "code",
   "execution_count": null,
   "metadata": {},
   "outputs": [],
   "source": []
  }
 ],
 "metadata": {
  "kernelspec": {
   "display_name": ".venv",
   "language": "python",
   "name": "python3"
  },
  "language_info": {
   "codemirror_mode": {
    "name": "ipython",
    "version": 3
   },
   "file_extension": ".py",
   "mimetype": "text/x-python",
   "name": "python",
   "nbconvert_exporter": "python",
   "pygments_lexer": "ipython3",
   "version": "3.10.10"
  }
 },
 "nbformat": 4,
 "nbformat_minor": 2
}
