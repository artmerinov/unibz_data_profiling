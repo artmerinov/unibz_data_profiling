{
 "cells": [
  {
   "cell_type": "code",
   "execution_count": 1,
   "metadata": {},
   "outputs": [],
   "source": [
    "import pandas as pd\n",
    "from pli import (\n",
    "    generate_pli, \n",
    "    pli_intersection_optimized\n",
    ")"
   ]
  },
  {
   "cell_type": "markdown",
   "metadata": {},
   "source": [
    "Make a toy dataset to play with"
   ]
  },
  {
   "cell_type": "code",
   "execution_count": 2,
   "metadata": {},
   "outputs": [
    {
     "data": {
      "text/html": [
       "<div>\n",
       "<style scoped>\n",
       "    .dataframe tbody tr th:only-of-type {\n",
       "        vertical-align: middle;\n",
       "    }\n",
       "\n",
       "    .dataframe tbody tr th {\n",
       "        vertical-align: top;\n",
       "    }\n",
       "\n",
       "    .dataframe thead th {\n",
       "        text-align: right;\n",
       "    }\n",
       "</style>\n",
       "<table border=\"1\" class=\"dataframe\">\n",
       "  <thead>\n",
       "    <tr style=\"text-align: right;\">\n",
       "      <th></th>\n",
       "      <th>a</th>\n",
       "      <th>b</th>\n",
       "      <th>c</th>\n",
       "      <th>d</th>\n",
       "      <th>e</th>\n",
       "    </tr>\n",
       "  </thead>\n",
       "  <tbody>\n",
       "    <tr>\n",
       "      <th>0</th>\n",
       "      <td>C</td>\n",
       "      <td>3</td>\n",
       "      <td>X</td>\n",
       "      <td>722</td>\n",
       "      <td>112</td>\n",
       "    </tr>\n",
       "    <tr>\n",
       "      <th>1</th>\n",
       "      <td>A</td>\n",
       "      <td>1</td>\n",
       "      <td>X</td>\n",
       "      <td>289</td>\n",
       "      <td>553</td>\n",
       "    </tr>\n",
       "    <tr>\n",
       "      <th>2</th>\n",
       "      <td>A</td>\n",
       "      <td>1</td>\n",
       "      <td>Y</td>\n",
       "      <td>189</td>\n",
       "      <td>583</td>\n",
       "    </tr>\n",
       "    <tr>\n",
       "      <th>3</th>\n",
       "      <td>B</td>\n",
       "      <td>1</td>\n",
       "      <td>X</td>\n",
       "      <td>289</td>\n",
       "      <td>513</td>\n",
       "    </tr>\n",
       "    <tr>\n",
       "      <th>4</th>\n",
       "      <td>C</td>\n",
       "      <td>1</td>\n",
       "      <td>X</td>\n",
       "      <td>289</td>\n",
       "      <td>553</td>\n",
       "    </tr>\n",
       "  </tbody>\n",
       "</table>\n",
       "</div>"
      ],
      "text/plain": [
       "   a  b  c    d    e\n",
       "0  C  3  X  722  112\n",
       "1  A  1  X  289  553\n",
       "2  A  1  Y  189  583\n",
       "3  B  1  X  289  513\n",
       "4  C  1  X  289  553"
      ]
     },
     "execution_count": 2,
     "metadata": {},
     "output_type": "execute_result"
    }
   ],
   "source": [
    "data = {\n",
    "    'a': ['C', 'A', 'A', 'B', 'C'],\n",
    "    'b': [3, 1, 1, 1, 1],\n",
    "    'c': ['X', 'X', 'Y', 'X', 'X'],\n",
    "    'd': [722, 289, 189, 289, 289],\n",
    "    'e': [112, 553, 583, 513 ,553]\n",
    "}\n",
    "\n",
    "df = pd.DataFrame(data)\n",
    "df"
   ]
  },
  {
   "cell_type": "markdown",
   "metadata": {},
   "source": [
    "<div>\n",
    "<img src=\"img/apriori_ucc.png\" width=\"600\"/>\n",
    "</div>"
   ]
  },
  {
   "cell_type": "code",
   "execution_count": 3,
   "metadata": {},
   "outputs": [
    {
     "data": {
      "text/plain": [
       "[('a', {1: [0, 4], 2: [1, 2]}),\n",
       " ('b', {2: [1, 2, 3, 4]}),\n",
       " ('c', {1: [0, 1, 3, 4]}),\n",
       " ('d', {2: [1, 3, 4]}),\n",
       " ('e', {2: [1, 4]})]"
      ]
     },
     "execution_count": 3,
     "metadata": {},
     "output_type": "execute_result"
    }
   ],
   "source": [
    "def prepare_Fk(df):\n",
    "    \n",
    "    Fk = []\n",
    "    for col in df.columns:\n",
    "        pli = generate_pli(df[col])\n",
    "        Fk.append((col, pli))\n",
    "\n",
    "    return Fk\n",
    "\n",
    "Fk = prepare_Fk(df)\n",
    "Fk"
   ]
  },
  {
   "cell_type": "code",
   "execution_count": 59,
   "metadata": {},
   "outputs": [],
   "source": [
    "def generate_candidates(Fk):\n",
    "    \"\"\"\n",
    "    Generates candidates for UCC (unique column combination) \n",
    "    discovery in Apriori algorithm.\n",
    "\n",
    "    Input: Fk = [(f1, pli1), (f2, pli2), ..., (fk, plik)]\n",
    "    Output: Candidates for the next level in the same format as Fk.\n",
    "    \"\"\"\n",
    "    E = []\n",
    "\n",
    "    schema = [f[0] for f, _ in Fk]\n",
    "\n",
    "    # traverse all pairs of non-unique column combinations \n",
    "    # (if column is unique, than all generated supersets or childs will be also unique!)\n",
    "    # that share the same maximal prefix (they are in lexicographic order) \n",
    "    # and differ only in one last attribute\n",
    "\n",
    "    for f1, pli1 in Fk:\n",
    "        for f2, pli2 in Fk:\n",
    "\n",
    "            # use lexicographic order\n",
    "            if f1 < f2:\n",
    "\n",
    "                # check if f1 and f2 share the same maximal prefix \n",
    "                # and differ only in the last attribute\n",
    "                if f1[:-1] == f2[:-1]:\n",
    "\n",
    "                    # make new CC with k+1 attributes \n",
    "                    # using a union of f1 and f2\n",
    "                    f = f1 + f2[-1]\n",
    "\n",
    "                    # and make an intersection of PLIs\n",
    "                    pli = pli_intersection_optimized(pli1, pli2)\n",
    "\n",
    "                    # if all subsets with k attributes are non-unique\n",
    "                    if all((set(f) - set(i)).issubset(schema) for i in set(f)):\n",
    "                        E.append((''.join(f), pli))             \n",
    "                               \n",
    "    return E"
   ]
  },
  {
   "cell_type": "code",
   "execution_count": 60,
   "metadata": {},
   "outputs": [
    {
     "data": {
      "text/plain": [
       "[('ab', {(2, 2): [1, 2]}),\n",
       " ('ac', {(1, 1): [0, 4]}),\n",
       " ('ad', {}),\n",
       " ('ae', {}),\n",
       " ('bc', {(2, 1): [1, 3, 4]}),\n",
       " ('bd', {(2, 2): [1, 3, 4]}),\n",
       " ('be', {(2, 2): [1, 4]}),\n",
       " ('cd', {(1, 2): [1, 3, 4]}),\n",
       " ('ce', {(1, 2): [1, 4]}),\n",
       " ('de', {(2, 2): [1, 4]})]"
      ]
     },
     "execution_count": 60,
     "metadata": {},
     "output_type": "execute_result"
    }
   ],
   "source": [
    "l1 = generate_candidates(Fk)\n",
    "l1"
   ]
  },
  {
   "cell_type": "code",
   "execution_count": 62,
   "metadata": {},
   "outputs": [
    {
     "data": {
      "text/plain": [
       "[('abc', {}), ('abd', {}), ('acd', {}), ('bcd', {((2, 1), (2, 2)): [1, 3, 4]})]"
      ]
     },
     "execution_count": 62,
     "metadata": {},
     "output_type": "execute_result"
    }
   ],
   "source": [
    "l2 = generate_candidates(l1)\n",
    "l2"
   ]
  },
  {
   "cell_type": "code",
   "execution_count": null,
   "metadata": {},
   "outputs": [],
   "source": []
  }
 ],
 "metadata": {
  "kernelspec": {
   "display_name": ".venv",
   "language": "python",
   "name": "python3"
  },
  "language_info": {
   "codemirror_mode": {
    "name": "ipython",
    "version": 3
   },
   "file_extension": ".py",
   "mimetype": "text/x-python",
   "name": "python",
   "nbconvert_exporter": "python",
   "pygments_lexer": "ipython3",
   "version": "3.10.10"
  }
 },
 "nbformat": 4,
 "nbformat_minor": 2
}
