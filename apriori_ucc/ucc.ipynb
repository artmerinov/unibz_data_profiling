{
 "cells": [
  {
   "cell_type": "code",
   "execution_count": 1,
   "metadata": {},
   "outputs": [],
   "source": [
    "import pandas as pd\n",
    "\n",
    "from pli import generate_pli, pli_intersection_optimized\n",
    "from candidates import prepare_Fk, generate_candidates"
   ]
  },
  {
   "cell_type": "markdown",
   "metadata": {},
   "source": [
    "Make a toy dataset to play with"
   ]
  },
  {
   "cell_type": "code",
   "execution_count": 2,
   "metadata": {},
   "outputs": [
    {
     "data": {
      "text/html": [
       "<div>\n",
       "<style scoped>\n",
       "    .dataframe tbody tr th:only-of-type {\n",
       "        vertical-align: middle;\n",
       "    }\n",
       "\n",
       "    .dataframe tbody tr th {\n",
       "        vertical-align: top;\n",
       "    }\n",
       "\n",
       "    .dataframe thead th {\n",
       "        text-align: right;\n",
       "    }\n",
       "</style>\n",
       "<table border=\"1\" class=\"dataframe\">\n",
       "  <thead>\n",
       "    <tr style=\"text-align: right;\">\n",
       "      <th></th>\n",
       "      <th>a</th>\n",
       "      <th>b</th>\n",
       "      <th>c</th>\n",
       "      <th>d</th>\n",
       "      <th>e</th>\n",
       "    </tr>\n",
       "  </thead>\n",
       "  <tbody>\n",
       "    <tr>\n",
       "      <th>0</th>\n",
       "      <td>C</td>\n",
       "      <td>3</td>\n",
       "      <td>X</td>\n",
       "      <td>722</td>\n",
       "      <td>112</td>\n",
       "    </tr>\n",
       "    <tr>\n",
       "      <th>1</th>\n",
       "      <td>A</td>\n",
       "      <td>1</td>\n",
       "      <td>X</td>\n",
       "      <td>289</td>\n",
       "      <td>553</td>\n",
       "    </tr>\n",
       "    <tr>\n",
       "      <th>2</th>\n",
       "      <td>A</td>\n",
       "      <td>1</td>\n",
       "      <td>Y</td>\n",
       "      <td>189</td>\n",
       "      <td>583</td>\n",
       "    </tr>\n",
       "    <tr>\n",
       "      <th>3</th>\n",
       "      <td>B</td>\n",
       "      <td>1</td>\n",
       "      <td>X</td>\n",
       "      <td>289</td>\n",
       "      <td>513</td>\n",
       "    </tr>\n",
       "    <tr>\n",
       "      <th>4</th>\n",
       "      <td>C</td>\n",
       "      <td>1</td>\n",
       "      <td>X</td>\n",
       "      <td>289</td>\n",
       "      <td>553</td>\n",
       "    </tr>\n",
       "  </tbody>\n",
       "</table>\n",
       "</div>"
      ],
      "text/plain": [
       "   a  b  c    d    e\n",
       "0  C  3  X  722  112\n",
       "1  A  1  X  289  553\n",
       "2  A  1  Y  189  583\n",
       "3  B  1  X  289  513\n",
       "4  C  1  X  289  553"
      ]
     },
     "execution_count": 2,
     "metadata": {},
     "output_type": "execute_result"
    }
   ],
   "source": [
    "data = {\n",
    "    'a': ['C', 'A', 'A', 'B', 'C'],\n",
    "    'b': [3, 1, 1, 1, 1],\n",
    "    'c': ['X', 'X', 'Y', 'X', 'X'],\n",
    "    'd': [722, 289, 189, 289, 289],\n",
    "    'e': [112, 553, 583, 513 ,553]\n",
    "}\n",
    "\n",
    "df = pd.DataFrame(data)\n",
    "df"
   ]
  },
  {
   "cell_type": "code",
   "execution_count": 122,
   "metadata": {},
   "outputs": [
    {
     "data": {
      "text/plain": [
       "{1: [0, 4], 2: [1, 2]}"
      ]
     },
     "execution_count": 122,
     "metadata": {},
     "output_type": "execute_result"
    }
   ],
   "source": [
    "generate_pli(df['a'])"
   ]
  },
  {
   "cell_type": "markdown",
   "metadata": {},
   "source": [
    "# Candidates generation"
   ]
  },
  {
   "cell_type": "markdown",
   "metadata": {},
   "source": [
    "<div>\n",
    "<img src=\"img/candidates_generation.png\" width=\"500\"/>\n",
    "</div>"
   ]
  },
  {
   "cell_type": "code",
   "execution_count": 22,
   "metadata": {},
   "outputs": [],
   "source": [
    "def prepare_Fk(df):\n",
    "    \"\"\"\n",
    "    Trasform df into the format\n",
    "    Fk = [(f1, pli1), (f2, pli2), ..., (fk, plik)]\n",
    "    \"\"\"\n",
    "    Fk = []\n",
    "\n",
    "    for col in df.columns:\n",
    "        pli = generate_pli(df[col])\n",
    "        Fk.append((col, pli))\n",
    "\n",
    "    return Fk\n",
    "\n",
    "\n",
    "def generate_candidates(Fk):\n",
    "    \"\"\"\n",
    "    Generates candidates for UCC (unique column combination) \n",
    "    discovery in Apriori algorithm.\n",
    "\n",
    "    Input: \n",
    "    Fk is a list of non-unique candidates with its PLIs in the \n",
    "    following format: Fk = [(f1, pli1), (f2, pli2), ..., (fk, plik)]\n",
    "    \n",
    "    Output: \n",
    "    Candidates for the next level in the same format as Fk.\n",
    "    \"\"\"\n",
    "    E = []\n",
    "\n",
    "    schema = [f[0] for f in Fk]\n",
    "\n",
    "    # traverse all pairs of non-unique column combinations \n",
    "    # (if column is unique, than all its supersets will be also unique!) \n",
    "    # that share the same maximal prefix (they are in lexicographic order) \n",
    "    # and differ only in one last attribute\n",
    "\n",
    "    for f1, pli1 in Fk:\n",
    "        for f2, pli2 in Fk:\n",
    "\n",
    "            # use lexicographic order\n",
    "            # so consider 2nd element in a pair\n",
    "            # that is located on the right\n",
    "            if f1 < f2:\n",
    "\n",
    "                # check if f1 and f2 share the same maximal prefix \n",
    "                # and differ only in the last attribute\n",
    "                if f1[:-1] == f2[:-1]:\n",
    "\n",
    "                    # make new CC with k+1 attributes \n",
    "                    # using a union of f1 and f2\n",
    "                    f = f1 + f2[-1]\n",
    "\n",
    "                    # and make an intersection of PLIs\n",
    "                    pli = pli_intersection_optimized(pli1, pli2)\n",
    "\n",
    "                    # if all subsets with k attributes are non-unique\n",
    "                    if all(''.join(sorted(set(f) - set(i))) in schema for i in f):\n",
    "                        E.append((''.join(f), pli))             \n",
    "                               \n",
    "    return E"
   ]
  },
  {
   "cell_type": "code",
   "execution_count": 23,
   "metadata": {},
   "outputs": [
    {
     "data": {
      "text/plain": [
       "[('a', {1: [0, 4], 2: [1, 2]}),\n",
       " ('b', {2: [1, 2, 3, 4]}),\n",
       " ('c', {1: [0, 1, 3, 4]}),\n",
       " ('d', {2: [1, 3, 4]}),\n",
       " ('e', {2: [1, 4]})]"
      ]
     },
     "execution_count": 23,
     "metadata": {},
     "output_type": "execute_result"
    }
   ],
   "source": [
    "E1 = prepare_Fk(df)\n",
    "E1"
   ]
  },
  {
   "cell_type": "code",
   "execution_count": 24,
   "metadata": {},
   "outputs": [
    {
     "data": {
      "text/plain": [
       "[('ab', {(2, 2): [1, 2]}),\n",
       " ('ac', {(1, 1): [0, 4]}),\n",
       " ('ad', {}),\n",
       " ('ae', {}),\n",
       " ('bc', {(2, 1): [1, 3, 4]}),\n",
       " ('bd', {(2, 2): [1, 3, 4]}),\n",
       " ('be', {(2, 2): [1, 4]}),\n",
       " ('cd', {(1, 2): [1, 3, 4]}),\n",
       " ('ce', {(1, 2): [1, 4]}),\n",
       " ('de', {(2, 2): [1, 4]})]"
      ]
     },
     "execution_count": 24,
     "metadata": {},
     "output_type": "execute_result"
    }
   ],
   "source": [
    "E2 = generate_candidates(E1)\n",
    "E2"
   ]
  },
  {
   "cell_type": "code",
   "execution_count": 25,
   "metadata": {},
   "outputs": [
    {
     "data": {
      "text/plain": [
       "[('abc', {}),\n",
       " ('abd', {}),\n",
       " ('abe', {}),\n",
       " ('acd', {}),\n",
       " ('ace', {}),\n",
       " ('ade', {}),\n",
       " ('bcd', {((2, 1), (2, 2)): [1, 3, 4]}),\n",
       " ('bce', {((2, 1), (2, 2)): [1, 4]}),\n",
       " ('bde', {((2, 2), (2, 2)): [1, 4]}),\n",
       " ('cde', {((1, 2), (1, 2)): [1, 4]})]"
      ]
     },
     "execution_count": 25,
     "metadata": {},
     "output_type": "execute_result"
    }
   ],
   "source": [
    "E3 = generate_candidates(E2)\n",
    "E3"
   ]
  },
  {
   "cell_type": "code",
   "execution_count": 26,
   "metadata": {},
   "outputs": [
    {
     "data": {
      "text/plain": [
       "[('abcd', {}),\n",
       " ('abce', {}),\n",
       " ('abde', {}),\n",
       " ('acde', {}),\n",
       " ('bcde', {(((2, 1), (2, 2)), ((2, 1), (2, 2))): [1, 4]})]"
      ]
     },
     "execution_count": 26,
     "metadata": {},
     "output_type": "execute_result"
    }
   ],
   "source": [
    "E4 = generate_candidates(E3)\n",
    "E4"
   ]
  },
  {
   "cell_type": "code",
   "execution_count": 123,
   "metadata": {},
   "outputs": [
    {
     "data": {
      "text/plain": [
       "[('abcde', {})]"
      ]
     },
     "execution_count": 123,
     "metadata": {},
     "output_type": "execute_result"
    }
   ],
   "source": [
    "E5 = generate_candidates(E4)\n",
    "E5"
   ]
  },
  {
   "cell_type": "markdown",
   "metadata": {},
   "source": [
    "# Pruning"
   ]
  },
  {
   "cell_type": "markdown",
   "metadata": {},
   "source": [
    "<div>\n",
    "<img src=\"img/pruning.png\" width=\"500\"/>\n",
    "</div>"
   ]
  },
  {
   "cell_type": "code",
   "execution_count": 118,
   "metadata": {},
   "outputs": [],
   "source": [
    "def prune(E):\n",
    "\n",
    "    # initialise the set of non-unique candidates\n",
    "    F = []\n",
    "\n",
    "    # traverse the candidates\n",
    "    for f, pli in E:\n",
    "\n",
    "        # if candidate's pli is NOT empty, \n",
    "        # we will add this candidate to the\n",
    "        # non-unique candidaates list\n",
    "\n",
    "        if len(pli) > 0:\n",
    "            F.append((f, pli))\n",
    "    \n",
    "    return F"
   ]
  },
  {
   "cell_type": "code",
   "execution_count": 124,
   "metadata": {},
   "outputs": [
    {
     "data": {
      "text/plain": [
       "[('abcd', {}),\n",
       " ('abce', {}),\n",
       " ('abde', {}),\n",
       " ('acde', {}),\n",
       " ('bcde', {(((2, 1), (2, 2)), ((2, 1), (2, 2))): [1, 4]})]"
      ]
     },
     "execution_count": 124,
     "metadata": {},
     "output_type": "execute_result"
    }
   ],
   "source": [
    "E4"
   ]
  },
  {
   "cell_type": "code",
   "execution_count": 125,
   "metadata": {},
   "outputs": [
    {
     "data": {
      "text/plain": [
       "[('bcde', {(((2, 1), (2, 2)), ((2, 1), (2, 2))): [1, 4]})]"
      ]
     },
     "execution_count": 125,
     "metadata": {},
     "output_type": "execute_result"
    }
   ],
   "source": [
    "prune(E4)"
   ]
  },
  {
   "cell_type": "markdown",
   "metadata": {},
   "source": [
    "# Apriori"
   ]
  },
  {
   "cell_type": "markdown",
   "metadata": {},
   "source": [
    "<div>\n",
    "<img src=\"img/apriori_ucc.png\" width=\"500\"/>\n",
    "</div>"
   ]
  },
  {
   "cell_type": "code",
   "execution_count": 120,
   "metadata": {},
   "outputs": [],
   "source": [
    "def apriori_ucc(df):\n",
    "\n",
    "    UCC = []\n",
    "    \n",
    "    k = 1\n",
    "\n",
    "    # start with single attribute sets and PLIs\n",
    "    E = prepare_Fk(df=df)\n",
    "    F = prune(E)\n",
    "    UCC.extend(list(sorted(\n",
    "        set([cand for cand, _ in E]) - set([cand for cand, _ in F])\n",
    "    )))\n",
    "\n",
    "    print(f'layer={k}')\n",
    "    print(f'E={E}') # candidates\n",
    "    print(f'F={F}') # candidates after pruning\n",
    "    print()\n",
    "\n",
    "    while len(F) > 0:\n",
    "\n",
    "        k += 1\n",
    "\n",
    "        E_next = generate_candidates(F)\n",
    "        F_next = prune(E_next)\n",
    "        F = F_next\n",
    "\n",
    "        print(f'layer={k}')\n",
    "        print(f'E={E_next}') # candidates\n",
    "        print(f'F={F_next}') # candidates after pruning\n",
    "        print()\n",
    "\n",
    "        UCC.extend(list(sorted(\n",
    "            set([cand for cand, _ in E_next]) - set([cand for cand, _ in F_next])\n",
    "        )))\n",
    "\n",
    "    return UCC"
   ]
  },
  {
   "cell_type": "code",
   "execution_count": 127,
   "metadata": {},
   "outputs": [
    {
     "name": "stdout",
     "output_type": "stream",
     "text": [
      "layer=1\n",
      "E=[('a', {1: [0, 4], 2: [1, 2]}), ('b', {2: [1, 2, 3, 4]}), ('c', {1: [0, 1, 3, 4]}), ('d', {2: [1, 3, 4]}), ('e', {2: [1, 4]})]\n",
      "F=[('a', {1: [0, 4], 2: [1, 2]}), ('b', {2: [1, 2, 3, 4]}), ('c', {1: [0, 1, 3, 4]}), ('d', {2: [1, 3, 4]}), ('e', {2: [1, 4]})]\n",
      "\n",
      "layer=2\n",
      "E=[('ab', {(2, 2): [1, 2]}), ('ac', {(1, 1): [0, 4]}), ('ad', {}), ('ae', {}), ('bc', {(2, 1): [1, 3, 4]}), ('bd', {(2, 2): [1, 3, 4]}), ('be', {(2, 2): [1, 4]}), ('cd', {(1, 2): [1, 3, 4]}), ('ce', {(1, 2): [1, 4]}), ('de', {(2, 2): [1, 4]})]\n",
      "F=[('ab', {(2, 2): [1, 2]}), ('ac', {(1, 1): [0, 4]}), ('bc', {(2, 1): [1, 3, 4]}), ('bd', {(2, 2): [1, 3, 4]}), ('be', {(2, 2): [1, 4]}), ('cd', {(1, 2): [1, 3, 4]}), ('ce', {(1, 2): [1, 4]}), ('de', {(2, 2): [1, 4]})]\n",
      "\n",
      "layer=3\n",
      "E=[('abc', {}), ('bcd', {((2, 1), (2, 2)): [1, 3, 4]}), ('bce', {((2, 1), (2, 2)): [1, 4]}), ('bde', {((2, 2), (2, 2)): [1, 4]}), ('cde', {((1, 2), (1, 2)): [1, 4]})]\n",
      "F=[('bcd', {((2, 1), (2, 2)): [1, 3, 4]}), ('bce', {((2, 1), (2, 2)): [1, 4]}), ('bde', {((2, 2), (2, 2)): [1, 4]}), ('cde', {((1, 2), (1, 2)): [1, 4]})]\n",
      "\n",
      "layer=4\n",
      "E=[('bcde', {(((2, 1), (2, 2)), ((2, 1), (2, 2))): [1, 4]})]\n",
      "F=[('bcde', {(((2, 1), (2, 2)), ((2, 1), (2, 2))): [1, 4]})]\n",
      "\n",
      "layer=5\n",
      "E=[]\n",
      "F=[]\n",
      "\n"
     ]
    },
    {
     "data": {
      "text/plain": [
       "['ad', 'ae', 'abc']"
      ]
     },
     "execution_count": 127,
     "metadata": {},
     "output_type": "execute_result"
    }
   ],
   "source": [
    "ucc = apriori_ucc(df)\n",
    "ucc"
   ]
  },
  {
   "cell_type": "code",
   "execution_count": null,
   "metadata": {},
   "outputs": [],
   "source": []
  },
  {
   "cell_type": "code",
   "execution_count": null,
   "metadata": {},
   "outputs": [],
   "source": []
  }
 ],
 "metadata": {
  "kernelspec": {
   "display_name": ".venv",
   "language": "python",
   "name": "python3"
  },
  "language_info": {
   "codemirror_mode": {
    "name": "ipython",
    "version": 3
   },
   "file_extension": ".py",
   "mimetype": "text/x-python",
   "name": "python",
   "nbconvert_exporter": "python",
   "pygments_lexer": "ipython3",
   "version": "3.10.10"
  }
 },
 "nbformat": 4,
 "nbformat_minor": 2
}
